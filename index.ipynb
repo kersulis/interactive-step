{
 "cells": [
  {
   "cell_type": "markdown",
   "metadata": {},
   "source": [
    "# Interactive second-order step response\n",
    "_EECS 460_\n",
    "\n",
    "**Read first:**\n",
    "* The interactive plots in this notebook do not respond quickly. Please be patient.\n",
    "* After changing a slider value, you will see the circle at upper-right turn solid as the server updates the plot. **Wait for the dot to become empty again before modifying the other slider.** Otherwise, the server will get conflicting update requests, and you will have to re-run the cell. (This will also generate an additional blank plot that gets in the way.)\n",
    "\n",
    "Now run the following cell (Ctrl+Enter). This might take a minute, and it will show a blank plot (disregard)."
   ]
  },
  {
   "cell_type": "code",
   "execution_count": null,
   "metadata": {
    "ExecuteTime": {
     "end_time": "2017-02-13T17:01:48.580913",
     "start_time": "2017-02-13T22:01:38.284Z"
    },
    "collapsed": false
   },
   "outputs": [],
   "source": [
    "include(\"step_code.jl\")"
   ]
  },
  {
   "cell_type": "markdown",
   "metadata": {},
   "source": [
    "Consider the second-order prototype system, normalized to have 1 in the numerator:\n",
    "$$ G(s) = \\frac{1}{s^2 + 2\\zeta\\omega_n + \\omega_n^2} $$\n",
    "\n",
    "The poles (roots of denominator) are\n",
    "$$ s_1,s_2 = -\\zeta\\omega_n\\pm j\\omega_n\\sqrt{1-\\zeta^2}. $$\n",
    "The position of the poles in the s-plane may be specified in polar coordinates: distance from the origin is $\\omega_n$, and angle is $\\pm \\theta$ where $\\theta = \\arccos\\zeta$.\n",
    "\n",
    "Run the next cell and vary $\\zeta$ and $\\omega_n$. Note how the poles and step response change. When you increase $\\zeta$ from 0, $\\theta$ decreases. When you increase $\\omega_n$, the poles move away from the origin (but the angle stays the same).\n",
    "\n",
    "**With $\\omega_n=1.5$ rad/sec, how high must the damping ratio $\\zeta$ be to ensure a settling time below 3s?**"
   ]
  },
  {
   "cell_type": "code",
   "execution_count": null,
   "metadata": {
    "ExecuteTime": {
     "end_time": "2017-02-13T17:02:21.629775",
     "start_time": "2017-02-13T22:02:16.535Z"
    },
    "collapsed": false
   },
   "outputs": [],
   "source": [
    "include(\"polar.jl\")"
   ]
  },
  {
   "cell_type": "markdown",
   "metadata": {},
   "source": [
    "The position of the poles in the s-plane may also be specified in rectangular coordinates: real part $\\alpha = \\zeta\\omega_n$, and imaginary part $\\omega = \\omega_n\\sqrt{1-\\zeta^2}$.\n",
    "\n",
    "Run the next cell and vary $\\alpha$ and $\\omega$. Note how the poles and step response change. Note also that you cannot obtain an overdamped response, because there is only one parameter to represent both real pole parts.\n",
    "\n",
    "**Set $\\omega$ to zero (drag or click the value to edit). Now gradually decrease $\\alpha$ from -0.1 to -2. What happpens?** (Note: if $\\alpha$ and $\\omega$ are zero at the same time, the plot will not update due to a divide-by-zero.)"
   ]
  },
  {
   "cell_type": "code",
   "execution_count": null,
   "metadata": {
    "ExecuteTime": {
     "end_time": "2017-02-13T17:06:24.846371",
     "start_time": "2017-02-13T22:06:22.575Z"
    },
    "collapsed": false,
    "scrolled": false
   },
   "outputs": [],
   "source": [
    "include(\"rectangular.jl\")"
   ]
  },
  {
   "cell_type": "markdown",
   "metadata": {},
   "source": [
    "**In your own words, describe why it might be preferable to work with $\\zeta$ and $\\omega_n$ rather than $\\alpha$ an $\\omega$.**"
   ]
  }
 ],
 "metadata": {
  "anaconda-cloud": {},
  "kernelspec": {
   "display_name": "Julia 0.5.0",
   "language": "julia",
   "name": "julia-0.5"
  },
  "language_info": {
   "file_extension": ".jl",
   "mimetype": "application/julia",
   "name": "julia",
   "version": "0.5.0"
  },
  "widgets": {
   "state": {
    "07e846a7-cae5-4e13-af92-4a3db21639af": {
     "views": [
      {
       "cell_index": 1
      }
     ]
    },
    "111e2972-57e3-470e-b2ee-f23bcc82ad98": {
     "views": [
      {
       "cell_index": 1
      }
     ]
    },
    "112307ef-4ecc-40b3-836e-b6e2872e84af": {
     "views": [
      {
       "cell_index": 5
      }
     ]
    },
    "11e7afff-100c-4323-91b4-1a7357eb6f11": {
     "views": [
      {
       "cell_index": 3
      }
     ]
    },
    "129b4892-b62b-4f02-9421-cb8c34a6c92a": {
     "views": [
      {
       "cell_index": 5
      }
     ]
    },
    "16f3d9aa-9d56-4cd5-b612-0b84136cf008": {
     "views": [
      {
       "cell_index": 3
      }
     ]
    },
    "1af6ec6d-8fb7-4ee2-a390-103df177901f": {
     "views": [
      {
       "cell_index": 5
      }
     ]
    },
    "1b83a56a-6c3e-455e-b1a0-3caf6bf4237f": {
     "views": [
      {
       "cell_index": 3
      }
     ]
    },
    "23dfa401-2115-4d70-8082-40098cca7355": {
     "views": [
      {
       "cell_index": 5
      }
     ]
    },
    "254c20d1-ce87-4f3c-982e-407af04323c4": {
     "views": [
      {
       "cell_index": 5
      }
     ]
    },
    "2fe44c1c-3992-4337-997b-263d09207fa3": {
     "views": [
      {
       "cell_index": 3
      }
     ]
    },
    "31ce2362-7496-4587-a12a-5f4862fe5e84": {
     "views": [
      {
       "cell_index": 3
      }
     ]
    },
    "32957869-eaff-4ed4-b7ca-ceb167754a97": {
     "views": [
      {
       "cell_index": 3
      }
     ]
    },
    "34866d95-7612-461b-9eff-d6a33e751ca9": {
     "views": [
      {
       "cell_index": 3
      }
     ]
    },
    "35933712-cdaf-4ea5-b17a-8c40dbb43ea8": {
     "views": [
      {
       "cell_index": 3
      }
     ]
    },
    "3b2c72c3-7025-4a6a-b43e-1f7fa009220b": {
     "views": [
      {
       "cell_index": 5
      }
     ]
    },
    "41dda715-1fc5-43ee-9a16-6cb056cdc7a2": {
     "views": [
      {
       "cell_index": 5
      }
     ]
    },
    "486ce390-3e16-4099-b23c-9a97a1e3b0da": {
     "views": [
      {
       "cell_index": 1
      }
     ]
    },
    "493cbbe7-26b9-412f-908e-a1ae661eda9a": {
     "views": [
      {
       "cell_index": 5
      }
     ]
    },
    "49682115-e1bd-42c4-a8ee-a708709aa3a4": {
     "views": [
      {
       "cell_index": 3
      }
     ]
    },
    "4b27f395-6e6e-40f7-a7d4-8aa367bd885a": {
     "views": [
      {
       "cell_index": 3
      }
     ]
    },
    "4dc6f33e-d667-404e-bb23-9643d564ba92": {
     "views": [
      {
       "cell_index": 4
      }
     ]
    },
    "4fa0d1d6-88fd-489a-a519-f37d6ad0d6e6": {
     "views": [
      {
       "cell_index": 3
      }
     ]
    },
    "5277b2c6-f9e8-42f1-8fd0-f2114c1a6a9a": {
     "views": [
      {
       "cell_index": 1
      }
     ]
    },
    "54038d1b-c29b-4364-8d71-84b8a3a00f4e": {
     "views": [
      {
       "cell_index": 3
      }
     ]
    },
    "5751a11c-27c8-4a34-a0b3-8d6c13e2b774": {
     "views": [
      {
       "cell_index": 2
      }
     ]
    },
    "5b5daa7f-6a32-4129-a386-788852d2770e": {
     "views": [
      {
       "cell_index": 0
      }
     ]
    },
    "61adca80-e4f0-4715-a314-ac520c1079ab": {
     "views": [
      {
       "cell_index": 1
      }
     ]
    },
    "648c0139-736f-4b35-86cd-9907af85676e": {
     "views": [
      {
       "cell_index": 5
      }
     ]
    },
    "67619dab-c86e-4f5d-b135-64807ba14815": {
     "views": [
      {
       "cell_index": 3
      }
     ]
    },
    "698b64d7-fe5a-4181-b3c7-beebd0ef77f9": {
     "views": [
      {
       "cell_index": 5
      }
     ]
    },
    "6a2a55a5-553d-43ec-aec4-5bee8c3e7cdc": {
     "views": [
      {
       "cell_index": 5
      }
     ]
    },
    "6ad6087a-c563-47f8-b2c3-ba5f543b2317": {
     "views": [
      {
       "cell_index": 1
      }
     ]
    },
    "75273cf0-b76b-4b6c-99ba-79cc442896b3": {
     "views": [
      {
       "cell_index": 4
      }
     ]
    },
    "7780b048-dbe6-4b9a-a4a5-58f0f1877e43": {
     "views": [
      {
       "cell_index": 3
      }
     ]
    },
    "7f74a870-14b1-45b4-9d84-8a946f2a40cc": {
     "views": [
      {
       "cell_index": 5
      }
     ]
    },
    "80f10f85-aa7d-4356-ba61-4ee93d967574": {
     "views": [
      {
       "cell_index": 5
      }
     ]
    },
    "88588d59-7bc5-4df8-8048-7a6412791145": {
     "views": [
      {
       "cell_index": 5
      }
     ]
    },
    "95e11184-04a2-49fd-a539-3d3008d6ec5a": {
     "views": [
      {
       "cell_index": 1
      }
     ]
    },
    "9f3bf869-e372-4746-88a9-c7fb9ca03890": {
     "views": [
      {
       "cell_index": 5
      }
     ]
    },
    "a067aa18-ef2c-4024-882e-f263d28b84ad": {
     "views": [
      {
       "cell_index": 3
      }
     ]
    },
    "a2bf5b31-6bb0-4852-8e31-8cebf0804d26": {
     "views": [
      {
       "cell_index": 5
      }
     ]
    },
    "a46b7c6e-549f-4705-ba90-c46724c86871": {
     "views": [
      {
       "cell_index": 3
      }
     ]
    },
    "ac7584f1-ff53-4617-9da2-356d08087630": {
     "views": [
      {
       "cell_index": 3
      }
     ]
    },
    "ad14afa6-446c-4369-b600-610fc16bac17": {
     "views": [
      {
       "cell_index": 3
      }
     ]
    },
    "ad33f1f4-1449-4bbf-848d-6cfcbe8d1b91": {
     "views": [
      {
       "cell_index": 3
      }
     ]
    },
    "aebda0f7-3b05-4e6d-b353-9170c7ad1bc9": {
     "views": [
      {
       "cell_index": 1
      }
     ]
    },
    "b16a52a7-c12e-412c-9ea1-eb1fc7366248": {
     "views": [
      {
       "cell_index": 3
      }
     ]
    },
    "b75d65e5-9312-4109-a0d0-b2de96ae2c6c": {
     "views": [
      {
       "cell_index": 5
      }
     ]
    },
    "b7fd99b3-566c-49d2-8e77-b1dc99a0e3ff": {
     "views": [
      {
       "cell_index": 3
      }
     ]
    },
    "bbbcdf5b-6f76-4460-82cd-34debe41436a": {
     "views": [
      {
       "cell_index": 5
      }
     ]
    },
    "c28f1449-a489-4f40-9663-4f2887a92660": {
     "views": [
      {
       "cell_index": 3
      }
     ]
    },
    "c2e94096-62ba-4a99-899f-ee2d9cca16b4": {
     "views": [
      {
       "cell_index": 5
      }
     ]
    },
    "c58dde6a-9018-4b7e-a53f-68ac49ce1ed2": {
     "views": [
      {
       "cell_index": 3
      }
     ]
    },
    "c756e608-29e3-4abe-bd25-66e6f8db734e": {
     "views": [
      {
       "cell_index": 3
      }
     ]
    },
    "cb767c84-f227-4609-a84c-45e864eb6c29": {
     "views": [
      {
       "cell_index": 3
      }
     ]
    },
    "d32362d4-0620-467d-828b-4881069fbd77": {
     "views": [
      {
       "cell_index": 5
      }
     ]
    },
    "d8166f79-9135-4c88-99e0-002b98f33070": {
     "views": [
      {
       "cell_index": 1
      }
     ]
    },
    "dd607d18-2a2c-44b9-a674-21f9d96387d8": {
     "views": [
      {
       "cell_index": 5
      }
     ]
    },
    "ddfbb8c8-f73c-4a71-951e-f9ad79e18bbe": {
     "views": [
      {
       "cell_index": 5
      }
     ]
    },
    "e0078eca-a8b7-4400-866e-e61615ff7fad": {
     "views": [
      {
       "cell_index": 1
      }
     ]
    },
    "e182adee-f942-4ea0-a620-be729a3f88d0": {
     "views": [
      {
       "cell_index": 3
      }
     ]
    },
    "e2f94b55-6c6a-4a8c-837a-0a43d146fcbe": {
     "views": [
      {
       "cell_index": 5
      }
     ]
    },
    "e355c08c-5a60-400f-9f44-e9ec04c30f32": {
     "views": [
      {
       "cell_index": 2
      }
     ]
    },
    "e4194ce6-fdf5-45a1-bea1-0f07126e33aa": {
     "views": [
      {
       "cell_index": 1
      }
     ]
    },
    "e456ad2e-b8ca-4782-a914-197e70d6b804": {
     "views": [
      {
       "cell_index": 3
      }
     ]
    },
    "eb0896d2-f7e7-48ee-b378-98db93d0f496": {
     "views": [
      {
       "cell_index": 3
      }
     ]
    },
    "f4a0ce01-40bc-471a-9e2c-be49ecc35ec3": {
     "views": [
      {
       "cell_index": 3
      }
     ]
    },
    "f4e0ca62-737f-4062-9db1-66e5e8c18fc9": {
     "views": [
      {
       "cell_index": 5
      }
     ]
    }
   },
   "version": "1.2.0"
  }
 },
 "nbformat": 4,
 "nbformat_minor": 1
}
